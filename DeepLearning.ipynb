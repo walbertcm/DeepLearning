{
  "nbformat": 4,
  "nbformat_minor": 0,
  "metadata": {
    "colab": {
      "name": "DeepLearning.ipynb",
      "provenance": [],
      "authorship_tag": "ABX9TyOwvEjDzWg0r4uDBNnxUDbH",
      "include_colab_link": true
    },
    "kernelspec": {
      "name": "python3",
      "display_name": "Python 3"
    },
    "language_info": {
      "name": "python"
    }
  },
  "cells": [
    {
      "cell_type": "markdown",
      "metadata": {
        "id": "view-in-github",
        "colab_type": "text"
      },
      "source": [
        "<a href=\"https://colab.research.google.com/github/walbertcm/DeepLearning/blob/main/DeepLearning.ipynb\" target=\"_parent\"><img src=\"https://colab.research.google.com/assets/colab-badge.svg\" alt=\"Open In Colab\"/></a>"
      ]
    },
    {
      "cell_type": "code",
      "metadata": {
        "colab": {
          "base_uri": "https://localhost:8080/"
        },
        "id": "YPWCzfx7eK1S",
        "outputId": "5ec9e576-d550-4f8a-fe9e-118f76ca1acb"
      },
      "source": [
        "#Básico\n",
        "\n",
        "#Imprimir\n",
        "print('Bom dia')\n",
        "\n",
        "#Variaveis\n",
        "codigo = 369\n",
        "print(codigo)\n",
        "\n",
        "#Listas\n",
        "lista_A=[10,20,30]\n",
        "print(lista_A)\n",
        "\n",
        "#Selecionar elemento da lista\n",
        "print(lista_A[1])\n",
        "\n",
        "#Imprimir tamanho da lista\n",
        "print(len(lista_A))\n"
      ],
      "execution_count": 4,
      "outputs": [
        {
          "output_type": "stream",
          "text": [
            "Bom dia\n",
            "369\n",
            "[10, 20, 30]\n",
            "20\n",
            "3\n"
          ],
          "name": "stdout"
        }
      ]
    },
    {
      "cell_type": "markdown",
      "metadata": {
        "id": "oqvhi-U8kdYW"
      },
      "source": [
        "TensorFlow"
      ]
    },
    {
      "cell_type": "code",
      "metadata": {
        "id": "L20KiLzRkdCV"
      },
      "source": [
        "#ImportTensorFlow\n",
        "from tensorflow import keras\n",
        "\n",
        "from keras.datasets import mnist\n",
        "\n",
        "from tensorflow.python.keras import Sequential #Arquitetura da rede\n",
        "from tensorflow.python.keras.layers import Dense, Dropout #Neuroni, regularizado\n",
        "from tensorflow.compat.v1.keras.optimizers import RMSprop #Otimizador"
      ],
      "execution_count": 6,
      "outputs": []
    },
    {
      "cell_type": "code",
      "metadata": {
        "colab": {
          "base_uri": "https://localhost:8080/"
        },
        "id": "SimYLIjdnA6X",
        "outputId": "c7d6da6c-63f3-4571-b49d-90a4443221bc"
      },
      "source": [
        "#Carregar e dividir os dados\n",
        "(x_treino, y_treino), (x_teste, y_teste) = mnist.load_data()"
      ],
      "execution_count": 7,
      "outputs": [
        {
          "output_type": "stream",
          "text": [
            "Downloading data from https://storage.googleapis.com/tensorflow/tf-keras-datasets/mnist.npz\n",
            "11493376/11490434 [==============================] - 0s 0us/step\n",
            "11501568/11490434 [==============================] - 0s 0us/step\n"
          ],
          "name": "stdout"
        }
      ]
    },
    {
      "cell_type": "code",
      "metadata": {
        "colab": {
          "base_uri": "https://localhost:8080/"
        },
        "id": "4EWufwXJp2kr",
        "outputId": "e6204dd9-961f-46bf-a809-c1e3f2c6c12f"
      },
      "source": [
        "print(\"Quantidade de imagens para teste\", len(x_teste))\n",
        "\n",
        "print(\"Quantidade de imagens para treino\",len(x_treino))\n",
        "\n",
        "print(type(x_treino))\n"
      ],
      "execution_count": 9,
      "outputs": [
        {
          "output_type": "stream",
          "text": [
            "Quantidade de imagens para teste 10000\n",
            "Quantidade de imagens para treino 60000\n",
            "<class 'numpy.ndarray'>\n"
          ],
          "name": "stdout"
        }
      ]
    }
  ]
}